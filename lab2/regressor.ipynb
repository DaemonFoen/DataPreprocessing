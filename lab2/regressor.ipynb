{
 "cells": [
  {
   "cell_type": "code",
   "id": "initial_id",
   "metadata": {
    "ExecuteTime": {
     "end_time": "2024-04-30T17:40:31.196016Z",
     "start_time": "2024-04-30T17:40:31.182301Z"
    }
   },
   "source": [
    "from perceptron import Perceptron\n",
    "import pandas as pd\n",
    "from sklearn.preprocessing import StandardScaler\n",
    "\n",
    "def load_and_preprocess_data(filepath):\n",
    "    dt = pd.read_csv(filepath, delimiter=',')\n",
    "    numeric_cols = ['Processor_Speed', 'RAM_Size', 'Storage_Capacity', 'Screen_Size', 'Weight']\n",
    "    categorical_cols = ['Brand']\n",
    "    scaler = StandardScaler()\n",
    "    dt[numeric_cols] = scaler.fit_transform(dt[numeric_cols])\n",
    "    dt = pd.get_dummies(dt, columns=categorical_cols)\n",
    "\n",
    "    return dt"
   ],
   "outputs": [],
   "execution_count": 16
  },
  {
   "cell_type": "code",
   "id": "dcac16893ba39278",
   "metadata": {
    "collapsed": false,
    "jupyter": {
     "outputs_hidden": false
    },
    "ExecuteTime": {
     "end_time": "2024-04-30T17:40:31.211817Z",
     "start_time": "2024-04-30T17:40:31.198019Z"
    }
   },
   "source": [
    "from sklearn.model_selection import train_test_split\n",
    "data = load_and_preprocess_data('../data/data_lab_1.csv')\n",
    "y = data['Price'].values\n",
    "X = data.drop('Price', axis=1).values\n",
    "X_train, X_test, y_train, y_test = train_test_split(X, y, test_size=0.2, random_state=42, shuffle=True)"
   ],
   "outputs": [],
   "execution_count": 17
  },
  {
   "cell_type": "code",
   "id": "7f2ca0f0",
   "metadata": {
    "collapsed": false,
    "jupyter": {
     "outputs_hidden": false
    },
    "ExecuteTime": {
     "end_time": "2024-04-30T17:40:31.321904Z",
     "start_time": "2024-04-30T17:40:31.212816Z"
    }
   },
   "source": [
    "import numpy as np\n",
    "from perceptron import load_weights\n",
    "\n",
    "def root_mean_squared_error(y_true, y_pred):\n",
    "   diff = y_true - y_pred \n",
    "   differences_squared = diff ** 2 \n",
    "   mean_diff = differences_squared.mean() \n",
    "   rmse_val = np.sqrt(mean_diff) \n",
    "   return np.average(rmse_val)**0.5\n",
    "\n",
    "\n",
    "\n",
    "hidden_size = 5\n",
    "output_size = 1\n",
    "\n",
    "def my_r2_score(y_t, y_pred):\n",
    "    corr_matrix = np.corrcoef(y_t, y_pred.flatten(), dtype=float)\n",
    "    corr = corr_matrix[0,1]\n",
    "    return corr**2\n",
    "\n",
    "\n",
    "mlp = Perceptron(X_train.shape[1], hidden_size, output_size)\n",
    "mlp = load_weights(filename='mlp_weights.pkl')\n",
    "\n",
    "# mlp.train(X_train, y_train, learning_rate=0.00000001, epochs=600)\n",
    "# save_weights(mlp, 'mlp_weights.pkl')\n",
    "\n",
    "predictions = mlp.predict(X_test)\n",
    "r2 = my_r2_score(y_test, predictions)\n",
    "rmse = root_mean_squared_error(y_test, predictions)\n",
    "\n",
    "print(f\"Root Mean Squared Error on Test Set: {rmse}\\n\")\n",
    "print(f\"R2 score = {r2}\")"
   ],
   "outputs": [
    {
     "name": "stdout",
     "output_type": "stream",
     "text": [
      "Root Mean Squared Error on Test Set: 116.07102438460971\n",
      "\n",
      "R2 score =0.9996287645720385 0.9996307275426717\n"
     ]
    }
   ],
   "execution_count": 18
  }
 ],
 "metadata": {
  "kernelspec": {
   "display_name": "Python 3 (ipykernel)",
   "language": "python",
   "name": "python3"
  },
  "language_info": {
   "codemirror_mode": {
    "name": "ipython",
    "version": 3
   },
   "file_extension": ".py",
   "mimetype": "text/x-python",
   "name": "python",
   "nbconvert_exporter": "python",
   "pygments_lexer": "ipython3",
   "version": "3.10.13"
  }
 },
 "nbformat": 4,
 "nbformat_minor": 5
}
