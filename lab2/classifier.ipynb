{
 "cells": [
  {
   "cell_type": "code",
   "source": [
    "import numpy as np\n",
    "import pandas as pd\n",
    "from sklearn.model_selection import train_test_split\n",
    "from perceptron import save_weights, load_weights\n",
    "\n",
    "data = pd.read_csv('../data/mushrooms.csv', delimiter=',')\n",
    "X = data.drop('class', axis=1)\n",
    "y = data['class'].apply(lambda x: np.float64(1) if x == 'p' else np.float64(0))\n",
    "X = pd.get_dummies(X, dtype=np.float64).fillna(0)\n",
    "X = X.drop('stalk-root_?', axis=1).values"
   ],
   "metadata": {
    "collapsed": false,
    "ExecuteTime": {
     "end_time": "2024-04-30T18:34:47.371028Z",
     "start_time": "2024-04-30T18:34:47.298194Z"
    }
   },
   "id": "458eb685b4938959",
   "outputs": [],
   "execution_count": 37
  },
  {
   "cell_type": "code",
   "source": [
    "X_train, X_test, y_train, y_test = train_test_split(X, y, test_size=0.2, shuffle=True)\n",
    "input_size = X_train.shape[1]\n",
    "# mlp = Perceptron(input_size=input_size, hidden_size=10, output_size=1)\n",
    "mlp = load_weights('c_mlp_weights.pkl')\n",
    "\n",
    "# mlp.train(X_train, y_train, learning_rate=0.0001, epochs=20)\n",
    "# save_weights(mlp, 'c_mlp_weights.pkl')\n",
    "\n",
    "predictions = mlp.predict(X_test) > 0.5"
   ],
   "metadata": {
    "collapsed": false,
    "ExecuteTime": {
     "end_time": "2024-04-30T18:34:47.386361Z",
     "start_time": "2024-04-30T18:34:47.373029Z"
    }
   },
   "id": "e526b289a720bc3f",
   "outputs": [],
   "execution_count": 38
  },
  {
   "cell_type": "code",
   "source": [
    "def my_accuracy(y_true, y_pred):\n",
    "    score = y_true == y_pred\n",
    "    return sum(score) / len(score)\n",
    "\n",
    "\n",
    "def my_precision(y_true, y_pred):\n",
    "    TP = sum((y_true == 1) & (y_pred == 1))\n",
    "    FP = sum((y_true == 0) & (y_pred == 1))\n",
    "    if TP + FP == 0:\n",
    "        return 0\n",
    "    else:\n",
    "        return TP / (TP + FP)\n",
    "\n",
    "\n",
    "def my_recall(y_true, y_pred):\n",
    "    TP = sum((y_true == 1) & (y_pred == 1))\n",
    "    FN = sum((y_true == 1) & (y_pred == 0))\n",
    "    if TP + FN == 0:\n",
    "        return 0\n",
    "    else:\n",
    "        return TP / (TP + FN)\n",
    "\n",
    "precision = my_precision(y_test, predictions.flatten())\n",
    "recall = my_recall(y_test, predictions.flatten())\n",
    "accuracy = my_accuracy(y_test, predictions.flatten())\n",
    "\n",
    "print(f\"Accuracy: {accuracy}\")\n",
    "print(f\"Precision: {precision}\")\n",
    "print(f\"Recall: {recall}\")\n"
   ],
   "metadata": {
    "collapsed": false,
    "ExecuteTime": {
     "end_time": "2024-04-30T18:34:47.402359Z",
     "start_time": "2024-04-30T18:34:47.387361Z"
    }
   },
   "id": "dcd56b51f41a1846",
   "outputs": [
    {
     "name": "stdout",
     "output_type": "stream",
     "text": [
      "Accuracy: 0.9803076923076923\n",
      "Precision: 0.9837177747625508\n",
      "Recall: 0.9731543624161074\n"
     ]
    }
   ],
   "execution_count": 39
  }
 ],
 "metadata": {
  "kernelspec": {
   "display_name": "Python 3",
   "language": "python",
   "name": "python3"
  },
  "language_info": {
   "codemirror_mode": {
    "name": "ipython",
    "version": 2
   },
   "file_extension": ".py",
   "mimetype": "text/x-python",
   "name": "python",
   "nbconvert_exporter": "python",
   "pygments_lexer": "ipython2",
   "version": "2.7.6"
  }
 },
 "nbformat": 4,
 "nbformat_minor": 5
}
